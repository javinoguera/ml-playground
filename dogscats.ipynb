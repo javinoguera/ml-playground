{
 "cells": [
  {
   "cell_type": "code",
   "execution_count": null,
   "metadata": {},
   "outputs": [],
   "source": [
    "# binary classification of dogs vs cats using a CNN from scratch\n",
    "# tested with a small subset of images"
   ]
  },
  {
   "cell_type": "code",
   "execution_count": 29,
   "metadata": {},
   "outputs": [],
   "source": [
    "import os, shutil\n",
    "import matplotlib.pyplot as plt"
   ]
  },
  {
   "cell_type": "code",
   "execution_count": 6,
   "metadata": {},
   "outputs": [],
   "source": [
    "original_dataset_dir = './data/dogscats/train'\n",
    "base_dir = './data/dogscats_small'\n",
    "shutil.rmtree(base_dir)\n",
    "os.mkdir(base_dir)"
   ]
  },
  {
   "cell_type": "code",
   "execution_count": 7,
   "metadata": {},
   "outputs": [],
   "source": [
    "# Create dirs from test, train and validation. Each dir will have a subdir for each category: dog and cats\n",
    "\n",
    "train_dir = os.path.join(base_dir, 'train')\n",
    "validation_dir = os.path.join(base_dir, 'validation')\n",
    "test_dir = os.path.join(base_dir, 'test')"
   ]
  },
  {
   "cell_type": "code",
   "execution_count": 8,
   "metadata": {},
   "outputs": [],
   "source": [
    "os.mkdir(validation_dir)\n",
    "os.mkdir(train_dir)\n",
    "os.mkdir(test_dir)"
   ]
  },
  {
   "cell_type": "code",
   "execution_count": 9,
   "metadata": {},
   "outputs": [],
   "source": [
    "train_cats_dir = os.path.join(train_dir, 'cats')\n",
    "os.mkdir(train_cats_dir)"
   ]
  },
  {
   "cell_type": "code",
   "execution_count": 10,
   "metadata": {},
   "outputs": [],
   "source": [
    "train_dogs_dir = os.path.join(train_dir, 'dogs')"
   ]
  },
  {
   "cell_type": "code",
   "execution_count": 11,
   "metadata": {},
   "outputs": [],
   "source": [
    "os.mkdir(train_dogs_dir)"
   ]
  },
  {
   "cell_type": "code",
   "execution_count": 12,
   "metadata": {},
   "outputs": [],
   "source": [
    "validation_cats_dir = os.path.join(validation_dir, 'cats')\n",
    "os.mkdir(validation_cats_dir)"
   ]
  },
  {
   "cell_type": "code",
   "execution_count": 13,
   "metadata": {},
   "outputs": [],
   "source": [
    "validation_dogs_dir = os.path.join(validation_dir, 'dogs')\n",
    "os.mkdir(validation_dogs_dir)"
   ]
  },
  {
   "cell_type": "code",
   "execution_count": 14,
   "metadata": {},
   "outputs": [],
   "source": [
    "test_cats_dir = os.path.join(test_dir, 'cats')\n",
    "os.mkdir(test_cats_dir)"
   ]
  },
  {
   "cell_type": "code",
   "execution_count": 15,
   "metadata": {},
   "outputs": [],
   "source": [
    "test_dogs_dir = os.path.join(test_dir, 'dogs')\n",
    "os.mkdir(test_dogs_dir)"
   ]
  },
  {
   "cell_type": "code",
   "execution_count": 16,
   "metadata": {},
   "outputs": [],
   "source": [
    "fnames = ['cat.{}.jpg'.format(i) for i in range(1000)]\n",
    "for fname in fnames:\n",
    "    src = os.path.join(original_dataset_dir, fname)\n",
    "    dst = os.path.join(train_cats_dir, fname)\n",
    "    shutil.copyfile(src, dst)\n",
    "\n",
    "fnames = ['cat.{}.jpg'.format(i) for i in range(1000, 1500)]\n",
    "for fname in fnames:\n",
    "    src = os.path.join(original_dataset_dir, fname)\n",
    "    dst = os.path.join(validation_cats_dir, fname)\n",
    "    shutil.copyfile(src, dst)\n",
    "\n",
    "fnames = ['cat.{}.jpg'.format(i) for i in range(1500, 2000)]\n",
    "for fname in fnames:\n",
    "    src = os.path.join(original_dataset_dir, fname)\n",
    "    dst = os.path.join(test_cats_dir, fname)\n",
    "    shutil.copyfile(src, dst)\n",
    "\n",
    "fnames = ['dog.{}.jpg'.format(i) for i in range(1000)]\n",
    "for fname in fnames:\n",
    "    src = os.path.join(original_dataset_dir, fname)\n",
    "    dst = os.path.join(train_dogs_dir, fname)\n",
    "    shutil.copyfile(src, dst)\n",
    "\n",
    "fnames = ['dog.{}.jpg'.format(i) for i in range(1000, 1500)]\n",
    "for fname in fnames:\n",
    "    src = os.path.join(original_dataset_dir, fname)\n",
    "    dst = os.path.join(validation_dogs_dir, fname)\n",
    "    shutil.copyfile(src, dst)\n",
    "\n",
    "fnames = ['dog.{}.jpg'.format(i) for i in range(1500, 2000)]\n",
    "for fname in fnames:\n",
    "    src = os.path.join(original_dataset_dir, fname)\n",
    "    dst = os.path.join(test_dogs_dir, fname)\n",
    "    shutil.copyfile(src, dst)\n",
    "\n"
   ]
  },
  {
   "cell_type": "code",
   "execution_count": 17,
   "metadata": {},
   "outputs": [
    {
     "name": "stdout",
     "output_type": "stream",
     "text": [
      "total training cat images: 1000\n",
      "total training dog images: 1000\n",
      "total validation cat images: 500\n",
      "total validation dog images: 500\n",
      "total test cat images: 500\n",
      "total test dog images: 500\n"
     ]
    }
   ],
   "source": [
    "print('total training cat images:', len(os.listdir(train_cats_dir)))\n",
    "print('total training dog images:', len(os.listdir(train_dogs_dir)))\n",
    "print('total validation cat images:', len(os.listdir(validation_cats_dir)))\n",
    "print('total validation dog images:', len(os.listdir(validation_dogs_dir)))\n",
    "print('total test cat images:', len(os.listdir(test_cats_dir)))\n",
    "print('total test dog images:', len(os.listdir(test_dogs_dir)))\n"
   ]
  },
  {
   "cell_type": "code",
   "execution_count": 34,
   "metadata": {},
   "outputs": [],
   "source": [
    "from keras import layers\n",
    "from keras import models\n",
    "\n",
    "model = models.Sequential()\n",
    "model.add(layers.Conv2D(32, (3,3), activation='relu', input_shape=(150,150,3)))\n",
    "model.add(layers.MaxPooling2D((2,2)))\n",
    "model.add(layers.Conv2D(64, (3,3), activation='relu'))\n",
    "model.add(layers.MaxPooling2D((2,2)))\n",
    "model.add(layers.Conv2D(128, (3,3), activation='relu'))\n",
    "model.add(layers.MaxPooling2D((2,2)))\n",
    "model.add(layers.Conv2D(128, (3,3), activation='relu'))\n",
    "model.add(layers.MaxPooling2D((2,2)))\n",
    "model.add(layers.Flatten())\n",
    "model.add(layers.Dropout(0.5))\n",
    "model.add(layers.Dense(512, activation='relu'))\n",
    "model.add(layers.Dense(1, activation='sigmoid'))"
   ]
  },
  {
   "cell_type": "code",
   "execution_count": 35,
   "metadata": {},
   "outputs": [
    {
     "name": "stdout",
     "output_type": "stream",
     "text": [
      "_________________________________________________________________\n",
      "Layer (type)                 Output Shape              Param #   \n",
      "=================================================================\n",
      "conv2d_5 (Conv2D)            (None, 148, 148, 32)      896       \n",
      "_________________________________________________________________\n",
      "max_pooling2d_5 (MaxPooling2 (None, 74, 74, 32)        0         \n",
      "_________________________________________________________________\n",
      "conv2d_6 (Conv2D)            (None, 72, 72, 64)        18496     \n",
      "_________________________________________________________________\n",
      "max_pooling2d_6 (MaxPooling2 (None, 36, 36, 64)        0         \n",
      "_________________________________________________________________\n",
      "conv2d_7 (Conv2D)            (None, 34, 34, 128)       73856     \n",
      "_________________________________________________________________\n",
      "max_pooling2d_7 (MaxPooling2 (None, 17, 17, 128)       0         \n",
      "_________________________________________________________________\n",
      "conv2d_8 (Conv2D)            (None, 15, 15, 128)       147584    \n",
      "_________________________________________________________________\n",
      "max_pooling2d_8 (MaxPooling2 (None, 7, 7, 128)         0         \n",
      "_________________________________________________________________\n",
      "flatten_2 (Flatten)          (None, 6272)              0         \n",
      "_________________________________________________________________\n",
      "dropout_1 (Dropout)          (None, 6272)              0         \n",
      "_________________________________________________________________\n",
      "dense_3 (Dense)              (None, 512)               3211776   \n",
      "_________________________________________________________________\n",
      "dense_4 (Dense)              (None, 1)                 513       \n",
      "=================================================================\n",
      "Total params: 3,453,121\n",
      "Trainable params: 3,453,121\n",
      "Non-trainable params: 0\n",
      "_________________________________________________________________\n"
     ]
    }
   ],
   "source": [
    "model.summary()"
   ]
  },
  {
   "cell_type": "code",
   "execution_count": 39,
   "metadata": {},
   "outputs": [],
   "source": [
    "from keras import optimizers\n",
    "\n",
    "model.compile(loss='binary_crossentropy', optimizer=optimizers.RMSprop(lr=1e-4), metrics=['acc'])"
   ]
  },
  {
   "cell_type": "code",
   "execution_count": 37,
   "metadata": {},
   "outputs": [
    {
     "name": "stdout",
     "output_type": "stream",
     "text": [
      "Found 2000 images belonging to 2 classes.\n",
      "Found 1000 images belonging to 2 classes.\n"
     ]
    }
   ],
   "source": [
    "# Randomize images to reduce overfitting\n",
    "\n",
    "from keras.preprocessing.image import ImageDataGenerator\n",
    "\n",
    "train_datagen=ImageDataGenerator(rescale=1./255, rotation_range=40, width_shift_range=0.2, height_shift_range=0.2, shear_range=0.2, zoom_range=0.2, horizontal_flip=True,)\n",
    "\n",
    "test_datagen=ImageDataGenerator(rescale=1./255)\n",
    "\n",
    "train_generator = train_datagen.flow_from_directory(\n",
    "    train_dir, target_size=(150, 150), batch_size=20, class_mode='binary'\n",
    ")\n",
    "\n",
    "validation_generator = test_datagen.flow_from_directory(\n",
    "    validation_dir, target_size=(150,150), batch_size=20, class_mode='binary'\n",
    ")"
   ]
  },
  {
   "cell_type": "code",
   "execution_count": 22,
   "metadata": {},
   "outputs": [
    {
     "name": "stdout",
     "output_type": "stream",
     "text": [
      "data batch shape: (20, 150, 150, 3)\n",
      "labels batch shape: (20,)\n"
     ]
    }
   ],
   "source": [
    "from IPython.display import display \n",
    "from PIL import Image\n",
    "\n",
    "\n",
    "for data_batch, labels_batch in train_generator:\n",
    "    print('data batch shape:', data_batch.shape)\n",
    "    print('labels batch shape:', labels_batch.shape)\n",
    "    break"
   ]
  },
  {
   "cell_type": "code",
   "execution_count": 40,
   "metadata": {},
   "outputs": [
    {
     "name": "stdout",
     "output_type": "stream",
     "text": [
      "Epoch 1/100\n",
      "100/100 [==============================] - 15s 150ms/step - loss: 0.6960 - acc: 0.5135 - val_loss: 0.6896 - val_acc: 0.5250\n",
      "Epoch 2/100\n",
      "100/100 [==============================] - 13s 128ms/step - loss: 0.6879 - acc: 0.5335 - val_loss: 0.6824 - val_acc: 0.5220\n",
      "Epoch 3/100\n",
      "100/100 [==============================] - 13s 128ms/step - loss: 0.6788 - acc: 0.5705 - val_loss: 0.6813 - val_acc: 0.5210\n",
      "Epoch 4/100\n",
      "100/100 [==============================] - 13s 129ms/step - loss: 0.6716 - acc: 0.5870 - val_loss: 0.6486 - val_acc: 0.6090\n",
      "Epoch 5/100\n",
      "100/100 [==============================] - 13s 128ms/step - loss: 0.6567 - acc: 0.6050 - val_loss: 0.6311 - val_acc: 0.6360\n",
      "Epoch 6/100\n",
      "100/100 [==============================] - 13s 128ms/step - loss: 0.6447 - acc: 0.6215 - val_loss: 0.6247 - val_acc: 0.6390\n",
      "Epoch 7/100\n",
      "100/100 [==============================] - 13s 130ms/step - loss: 0.6310 - acc: 0.6340 - val_loss: 0.5993 - val_acc: 0.6700\n",
      "Epoch 8/100\n",
      "100/100 [==============================] - 13s 131ms/step - loss: 0.6218 - acc: 0.6525 - val_loss: 0.6346 - val_acc: 0.6360\n",
      "Epoch 9/100\n",
      "100/100 [==============================] - 13s 130ms/step - loss: 0.6127 - acc: 0.6610 - val_loss: 0.5968 - val_acc: 0.6640\n",
      "Epoch 10/100\n",
      "100/100 [==============================] - 13s 131ms/step - loss: 0.6068 - acc: 0.6700 - val_loss: 0.5867 - val_acc: 0.6850\n",
      "Epoch 11/100\n",
      "100/100 [==============================] - 13s 129ms/step - loss: 0.5933 - acc: 0.6865 - val_loss: 0.5709 - val_acc: 0.6920\n",
      "Epoch 12/100\n",
      "100/100 [==============================] - 13s 129ms/step - loss: 0.5929 - acc: 0.6760 - val_loss: 0.5910 - val_acc: 0.6680\n",
      "Epoch 13/100\n",
      "100/100 [==============================] - 13s 129ms/step - loss: 0.5892 - acc: 0.6870 - val_loss: 0.5646 - val_acc: 0.6890\n",
      "Epoch 14/100\n",
      "100/100 [==============================] - 13s 130ms/step - loss: 0.5773 - acc: 0.6950 - val_loss: 0.5589 - val_acc: 0.7090\n",
      "Epoch 15/100\n",
      "100/100 [==============================] - 13s 131ms/step - loss: 0.5742 - acc: 0.7010 - val_loss: 0.5635 - val_acc: 0.7010\n",
      "Epoch 16/100\n",
      "100/100 [==============================] - 13s 133ms/step - loss: 0.5657 - acc: 0.7130 - val_loss: 0.5748 - val_acc: 0.7070\n",
      "Epoch 17/100\n",
      "100/100 [==============================] - 13s 129ms/step - loss: 0.5721 - acc: 0.6975 - val_loss: 0.5483 - val_acc: 0.7090\n",
      "Epoch 18/100\n",
      "100/100 [==============================] - 13s 131ms/step - loss: 0.5561 - acc: 0.7085 - val_loss: 0.5527 - val_acc: 0.7090\n",
      "Epoch 19/100\n",
      "100/100 [==============================] - 13s 130ms/step - loss: 0.5677 - acc: 0.6960 - val_loss: 0.5328 - val_acc: 0.7330\n",
      "Epoch 20/100\n",
      "100/100 [==============================] - 13s 130ms/step - loss: 0.5471 - acc: 0.7200 - val_loss: 0.5168 - val_acc: 0.7470\n",
      "Epoch 21/100\n",
      "100/100 [==============================] - 13s 128ms/step - loss: 0.5580 - acc: 0.7095 - val_loss: 0.5204 - val_acc: 0.7440\n",
      "Epoch 22/100\n",
      "100/100 [==============================] - 13s 130ms/step - loss: 0.5477 - acc: 0.7205 - val_loss: 0.5150 - val_acc: 0.7410\n",
      "Epoch 23/100\n",
      "100/100 [==============================] - 13s 130ms/step - loss: 0.5428 - acc: 0.7205 - val_loss: 0.5018 - val_acc: 0.7420\n",
      "Epoch 24/100\n",
      "100/100 [==============================] - 13s 129ms/step - loss: 0.5365 - acc: 0.7220 - val_loss: 0.5018 - val_acc: 0.7530\n",
      "Epoch 25/100\n",
      "100/100 [==============================] - 13s 129ms/step - loss: 0.5245 - acc: 0.7420 - val_loss: 0.5623 - val_acc: 0.7020\n",
      "Epoch 26/100\n",
      "100/100 [==============================] - 13s 129ms/step - loss: 0.5317 - acc: 0.7330 - val_loss: 0.4955 - val_acc: 0.7570\n",
      "Epoch 27/100\n",
      "100/100 [==============================] - 13s 129ms/step - loss: 0.5327 - acc: 0.7350 - val_loss: 0.5013 - val_acc: 0.7570\n",
      "Epoch 28/100\n",
      "100/100 [==============================] - 13s 128ms/step - loss: 0.5307 - acc: 0.7300 - val_loss: 0.5248 - val_acc: 0.7310\n",
      "Epoch 29/100\n",
      "100/100 [==============================] - 13s 128ms/step - loss: 0.5130 - acc: 0.7585 - val_loss: 0.4925 - val_acc: 0.7550\n",
      "Epoch 30/100\n",
      "100/100 [==============================] - 13s 130ms/step - loss: 0.5306 - acc: 0.7325 - val_loss: 0.4865 - val_acc: 0.7670\n",
      "Epoch 31/100\n",
      "100/100 [==============================] - 13s 130ms/step - loss: 0.5099 - acc: 0.7440 - val_loss: 0.4940 - val_acc: 0.7490\n",
      "Epoch 32/100\n",
      "100/100 [==============================] - 13s 130ms/step - loss: 0.5206 - acc: 0.7395 - val_loss: 0.4969 - val_acc: 0.7360\n",
      "Epoch 33/100\n",
      "100/100 [==============================] - 13s 129ms/step - loss: 0.5100 - acc: 0.7555 - val_loss: 0.4679 - val_acc: 0.7710\n",
      "Epoch 34/100\n",
      "100/100 [==============================] - 13s 128ms/step - loss: 0.5039 - acc: 0.7515 - val_loss: 0.5044 - val_acc: 0.7610\n",
      "Epoch 35/100\n",
      "100/100 [==============================] - 13s 128ms/step - loss: 0.5121 - acc: 0.7490 - val_loss: 0.4825 - val_acc: 0.7560\n",
      "Epoch 36/100\n",
      "100/100 [==============================] - 13s 131ms/step - loss: 0.5054 - acc: 0.7540 - val_loss: 0.5121 - val_acc: 0.7500\n",
      "Epoch 37/100\n",
      "100/100 [==============================] - 13s 130ms/step - loss: 0.4943 - acc: 0.7545 - val_loss: 0.4638 - val_acc: 0.7760\n",
      "Epoch 38/100\n",
      "100/100 [==============================] - 13s 129ms/step - loss: 0.5136 - acc: 0.7440 - val_loss: 0.5040 - val_acc: 0.7490\n",
      "Epoch 39/100\n",
      "100/100 [==============================] - 13s 129ms/step - loss: 0.4885 - acc: 0.7710 - val_loss: 0.4981 - val_acc: 0.7580\n",
      "Epoch 40/100\n",
      "100/100 [==============================] - 13s 129ms/step - loss: 0.4804 - acc: 0.7730 - val_loss: 0.5133 - val_acc: 0.7490\n",
      "Epoch 41/100\n",
      "100/100 [==============================] - 13s 129ms/step - loss: 0.4869 - acc: 0.7665 - val_loss: 0.4792 - val_acc: 0.7630\n",
      "Epoch 42/100\n",
      "100/100 [==============================] - 13s 129ms/step - loss: 0.4818 - acc: 0.7755 - val_loss: 0.5222 - val_acc: 0.7340\n",
      "Epoch 43/100\n",
      "100/100 [==============================] - 13s 129ms/step - loss: 0.4760 - acc: 0.7665 - val_loss: 0.5366 - val_acc: 0.7280\n",
      "Epoch 44/100\n",
      "100/100 [==============================] - 13s 130ms/step - loss: 0.4870 - acc: 0.7520 - val_loss: 0.4590 - val_acc: 0.7880\n",
      "Epoch 45/100\n",
      "100/100 [==============================] - 13s 129ms/step - loss: 0.4902 - acc: 0.7650 - val_loss: 0.4986 - val_acc: 0.7500\n",
      "Epoch 46/100\n",
      "100/100 [==============================] - 13s 128ms/step - loss: 0.4760 - acc: 0.7680 - val_loss: 0.4923 - val_acc: 0.7540\n",
      "Epoch 47/100\n",
      "100/100 [==============================] - 13s 129ms/step - loss: 0.4781 - acc: 0.7750 - val_loss: 0.4418 - val_acc: 0.7980\n",
      "Epoch 48/100\n",
      "100/100 [==============================] - 13s 129ms/step - loss: 0.4702 - acc: 0.7690 - val_loss: 0.5206 - val_acc: 0.7440\n",
      "Epoch 49/100\n",
      "100/100 [==============================] - 13s 129ms/step - loss: 0.4781 - acc: 0.7825 - val_loss: 0.4790 - val_acc: 0.7610\n",
      "Epoch 50/100\n",
      "100/100 [==============================] - 13s 130ms/step - loss: 0.4627 - acc: 0.7825 - val_loss: 0.4697 - val_acc: 0.7780\n",
      "Epoch 51/100\n",
      "100/100 [==============================] - 14s 136ms/step - loss: 0.4650 - acc: 0.7755 - val_loss: 0.5521 - val_acc: 0.7460\n",
      "Epoch 52/100\n",
      "100/100 [==============================] - 13s 129ms/step - loss: 0.4685 - acc: 0.7865 - val_loss: 0.4657 - val_acc: 0.7810\n",
      "Epoch 53/100\n",
      "100/100 [==============================] - 13s 128ms/step - loss: 0.4600 - acc: 0.7820 - val_loss: 0.4869 - val_acc: 0.7620\n",
      "Epoch 54/100\n",
      "100/100 [==============================] - 13s 128ms/step - loss: 0.4680 - acc: 0.7795 - val_loss: 0.4731 - val_acc: 0.7790\n",
      "Epoch 55/100\n",
      "100/100 [==============================] - 13s 128ms/step - loss: 0.4629 - acc: 0.7695 - val_loss: 0.4684 - val_acc: 0.7700\n",
      "Epoch 56/100\n",
      "100/100 [==============================] - 13s 128ms/step - loss: 0.4616 - acc: 0.7815 - val_loss: 0.4766 - val_acc: 0.7760\n",
      "Epoch 57/100\n",
      "100/100 [==============================] - 13s 128ms/step - loss: 0.4643 - acc: 0.7670 - val_loss: 0.4595 - val_acc: 0.7900\n",
      "Epoch 58/100\n",
      "100/100 [==============================] - 13s 128ms/step - loss: 0.4431 - acc: 0.7950 - val_loss: 0.4896 - val_acc: 0.7800\n",
      "Epoch 59/100\n",
      "100/100 [==============================] - 15s 146ms/step - loss: 0.4649 - acc: 0.7770 - val_loss: 0.4966 - val_acc: 0.7730\n",
      "Epoch 60/100\n",
      "100/100 [==============================] - 14s 141ms/step - loss: 0.4563 - acc: 0.7850 - val_loss: 0.4155 - val_acc: 0.8070\n"
     ]
    },
    {
     "name": "stdout",
     "output_type": "stream",
     "text": [
      "Epoch 61/100\n",
      "100/100 [==============================] - 14s 138ms/step - loss: 0.4420 - acc: 0.7855 - val_loss: 0.4231 - val_acc: 0.8080\n",
      "Epoch 62/100\n",
      "100/100 [==============================] - 14s 138ms/step - loss: 0.4396 - acc: 0.8020 - val_loss: 0.4073 - val_acc: 0.8090\n",
      "Epoch 63/100\n",
      "100/100 [==============================] - 14s 139ms/step - loss: 0.4430 - acc: 0.8060 - val_loss: 0.4400 - val_acc: 0.7870\n",
      "Epoch 64/100\n",
      "100/100 [==============================] - 14s 137ms/step - loss: 0.4289 - acc: 0.7915 - val_loss: 0.4454 - val_acc: 0.8000\n",
      "Epoch 65/100\n",
      "100/100 [==============================] - 14s 137ms/step - loss: 0.4415 - acc: 0.7840 - val_loss: 0.4403 - val_acc: 0.7960\n",
      "Epoch 66/100\n",
      "100/100 [==============================] - 14s 137ms/step - loss: 0.4300 - acc: 0.8000 - val_loss: 0.4298 - val_acc: 0.8050\n",
      "Epoch 67/100\n",
      "100/100 [==============================] - 14s 138ms/step - loss: 0.4584 - acc: 0.7780 - val_loss: 0.4576 - val_acc: 0.7810\n",
      "Epoch 68/100\n",
      "100/100 [==============================] - 14s 137ms/step - loss: 0.4254 - acc: 0.7990 - val_loss: 0.4517 - val_acc: 0.7740\n",
      "Epoch 69/100\n",
      "100/100 [==============================] - 14s 138ms/step - loss: 0.4313 - acc: 0.7965 - val_loss: 0.5090 - val_acc: 0.7600\n",
      "Epoch 70/100\n",
      "100/100 [==============================] - 14s 137ms/step - loss: 0.4454 - acc: 0.7980 - val_loss: 0.4308 - val_acc: 0.8030\n",
      "Epoch 71/100\n",
      "100/100 [==============================] - 13s 129ms/step - loss: 0.4197 - acc: 0.8105 - val_loss: 0.4244 - val_acc: 0.8090\n",
      "Epoch 72/100\n",
      "100/100 [==============================] - 13s 129ms/step - loss: 0.4182 - acc: 0.8115 - val_loss: 0.4277 - val_acc: 0.8070\n",
      "Epoch 73/100\n",
      "100/100 [==============================] - 13s 128ms/step - loss: 0.4323 - acc: 0.7985 - val_loss: 0.4570 - val_acc: 0.7920\n",
      "Epoch 74/100\n",
      "100/100 [==============================] - 13s 128ms/step - loss: 0.4332 - acc: 0.7970 - val_loss: 0.4569 - val_acc: 0.8020\n",
      "Epoch 75/100\n",
      "100/100 [==============================] - 13s 129ms/step - loss: 0.4037 - acc: 0.8150 - val_loss: 0.4433 - val_acc: 0.8070\n",
      "Epoch 76/100\n",
      "100/100 [==============================] - 13s 130ms/step - loss: 0.4256 - acc: 0.8095 - val_loss: 0.5472 - val_acc: 0.7480\n",
      "Epoch 77/100\n",
      "100/100 [==============================] - 13s 128ms/step - loss: 0.4184 - acc: 0.8040 - val_loss: 0.4623 - val_acc: 0.7920\n",
      "Epoch 78/100\n",
      "100/100 [==============================] - 13s 128ms/step - loss: 0.4156 - acc: 0.8045 - val_loss: 0.4862 - val_acc: 0.7550\n",
      "Epoch 79/100\n",
      "100/100 [==============================] - 13s 128ms/step - loss: 0.3936 - acc: 0.8180 - val_loss: 0.4434 - val_acc: 0.7970\n",
      "Epoch 80/100\n",
      "100/100 [==============================] - 13s 129ms/step - loss: 0.4021 - acc: 0.8165 - val_loss: 0.4577 - val_acc: 0.7840\n",
      "Epoch 81/100\n",
      "100/100 [==============================] - 13s 129ms/step - loss: 0.4164 - acc: 0.8165 - val_loss: 0.4256 - val_acc: 0.8120\n",
      "Epoch 82/100\n",
      "100/100 [==============================] - 13s 129ms/step - loss: 0.4229 - acc: 0.8090 - val_loss: 0.4297 - val_acc: 0.7960\n",
      "Epoch 83/100\n",
      "100/100 [==============================] - 13s 130ms/step - loss: 0.4029 - acc: 0.8100 - val_loss: 0.4423 - val_acc: 0.8020\n",
      "Epoch 84/100\n",
      "100/100 [==============================] - 13s 129ms/step - loss: 0.4097 - acc: 0.8125 - val_loss: 0.4605 - val_acc: 0.7810\n",
      "Epoch 85/100\n",
      "100/100 [==============================] - 13s 129ms/step - loss: 0.4047 - acc: 0.8160 - val_loss: 0.4230 - val_acc: 0.7940\n",
      "Epoch 86/100\n",
      "100/100 [==============================] - 13s 128ms/step - loss: 0.4164 - acc: 0.8000 - val_loss: 0.4367 - val_acc: 0.8060\n",
      "Epoch 87/100\n",
      "100/100 [==============================] - 13s 128ms/step - loss: 0.4003 - acc: 0.8195 - val_loss: 0.4007 - val_acc: 0.8180\n",
      "Epoch 88/100\n",
      "100/100 [==============================] - 13s 130ms/step - loss: 0.4046 - acc: 0.8085 - val_loss: 0.4702 - val_acc: 0.7920\n",
      "Epoch 89/100\n",
      "100/100 [==============================] - 13s 134ms/step - loss: 0.4024 - acc: 0.8175 - val_loss: 0.4721 - val_acc: 0.7880\n",
      "Epoch 90/100\n",
      "100/100 [==============================] - 13s 132ms/step - loss: 0.3920 - acc: 0.8225 - val_loss: 0.4201 - val_acc: 0.8170\n",
      "Epoch 91/100\n",
      "100/100 [==============================] - 13s 132ms/step - loss: 0.4031 - acc: 0.8100 - val_loss: 0.4627 - val_acc: 0.7990\n",
      "Epoch 92/100\n",
      "100/100 [==============================] - 13s 132ms/step - loss: 0.3935 - acc: 0.8200 - val_loss: 0.4235 - val_acc: 0.8190\n",
      "Epoch 93/100\n",
      "100/100 [==============================] - 13s 129ms/step - loss: 0.3862 - acc: 0.8250 - val_loss: 0.4139 - val_acc: 0.8150\n",
      "Epoch 94/100\n",
      "100/100 [==============================] - 13s 130ms/step - loss: 0.3833 - acc: 0.8295 - val_loss: 0.3943 - val_acc: 0.8260\n",
      "Epoch 95/100\n",
      "100/100 [==============================] - 13s 129ms/step - loss: 0.3883 - acc: 0.8315 - val_loss: 0.4046 - val_acc: 0.8030\n",
      "Epoch 96/100\n",
      "100/100 [==============================] - 13s 129ms/step - loss: 0.3857 - acc: 0.8245 - val_loss: 0.4632 - val_acc: 0.8160\n",
      "Epoch 97/100\n",
      "100/100 [==============================] - 13s 129ms/step - loss: 0.3972 - acc: 0.8120 - val_loss: 0.4577 - val_acc: 0.8180\n",
      "Epoch 98/100\n",
      "100/100 [==============================] - 13s 129ms/step - loss: 0.3808 - acc: 0.8250 - val_loss: 0.4624 - val_acc: 0.7970\n",
      "Epoch 99/100\n",
      "100/100 [==============================] - 13s 130ms/step - loss: 0.3873 - acc: 0.8230 - val_loss: 0.4804 - val_acc: 0.7870\n",
      "Epoch 100/100\n",
      "100/100 [==============================] - 13s 128ms/step - loss: 0.3877 - acc: 0.8315 - val_loss: 0.4038 - val_acc: 0.8310\n"
     ]
    }
   ],
   "source": [
    "history = model.fit_generator(\n",
    "    train_generator,\n",
    "    steps_per_epoch=100,\n",
    "    epochs=100,\n",
    "    validation_data=validation_generator,\n",
    "    validation_steps=50\n",
    ")"
   ]
  },
  {
   "cell_type": "code",
   "execution_count": 41,
   "metadata": {},
   "outputs": [],
   "source": [
    "# save weights\n",
    "\n",
    "model.save('cats_and_dogs_small_2.h5')"
   ]
  },
  {
   "cell_type": "code",
   "execution_count": 42,
   "metadata": {},
   "outputs": [
    {
     "data": {
      "image/png": "[encoded data removed]",
      "text/plain": [
       "<Figure size 432x288 with 1 Axes>"
      ]
     },
     "metadata": {
      "needs_background": "light"
     },
     "output_type": "display_data"
    }
   ],
   "source": [
    "def plot_acc(history):\n",
    "    history_dict = history.history\n",
    "    acc_values = history_dict['acc']\n",
    "    val_acc_values = history_dict['val_acc']\n",
    "    \n",
    "    epochs = range (1, len(acc_values) +1)\n",
    "\n",
    "\n",
    "    plt.plot(epochs, acc_values, 'bo', label='Training acc')\n",
    "    plt.plot(epochs, val_acc_values, 'b', label='Validation acc')\n",
    "\n",
    "    plt.title('Training and validation accuracy')\n",
    "    plt.xlabel('Epochs')\n",
    "    plt.ylabel('Accuracy')\n",
    "    plt.legend()\n",
    "\n",
    "    return plt\n",
    "\n",
    "plt_acc = plot_acc(history)\n",
    "plt_acc.show()"
   ]
  },
  {
   "cell_type": "code",
   "execution_count": 43,
   "metadata": {},
   "outputs": [
    {
     "data": {
      "image/png": "[encoded data removed]",
      "text/plain": [
       "<Figure size 432x288 with 1 Axes>"
      ]
     },
     "metadata": {
      "needs_background": "light"
     },
     "output_type": "display_data"
    }
   ],
   "source": [
    "def plot_loss(history):\n",
    "    history_dict = history.history\n",
    "    loss_values = history_dict['loss']\n",
    "    val_loss_values = history_dict['val_loss']\n",
    "\n",
    "    epochs = range (1, len(loss_values) +1)\n",
    "\n",
    "    plt.plot(epochs, loss_values, 'bo', label='Training loss')\n",
    "    plt.plot(epochs, val_loss_values, 'b', label='Validation loss')\n",
    "    plt.title('Training and validation loss')\n",
    "    plt.xlabel('Epochs')\n",
    "    plt.ylabel('Loss')\n",
    "    plt.legend()\n",
    "    \n",
    "    return plt\n",
    "\n",
    "plt = plot_loss(history)\n",
    "plt.show()"
   ]
  },
  {
   "cell_type": "code",
   "execution_count": null,
   "metadata": {},
   "outputs": [],
   "source": []
  }
 ],
 "metadata": {
  "kernelspec": {
   "display_name": "Python 3",
   "language": "python",
   "name": "python3"
  },
  "language_info": {
   "codemirror_mode": {
    "name": "ipython",
    "version": 3
   },
   "file_extension": ".py",
   "mimetype": "text/x-python",
   "name": "python",
   "nbconvert_exporter": "python",
   "pygments_lexer": "ipython3",
   "version": "3.5.0"
  }
 },
 "nbformat": 4,
 "nbformat_minor": 2
}
