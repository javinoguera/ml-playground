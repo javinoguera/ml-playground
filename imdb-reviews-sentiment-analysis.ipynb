{
 "cells": [
  {
   "cell_type": "code",
   "execution_count": null,
   "metadata": {},
   "outputs": [],
   "source": [
    "# sentimental analysis of IMDB reviews using LSTM and GloVe embeddings"
   ]
  },
  {
   "cell_type": "code",
   "execution_count": 42,
   "metadata": {},
   "outputs": [],
   "source": [
    "import numpy as np\n",
    "import matplotlib.pyplot as plt\n",
    "from keras.layers import Embedding\n",
    "from keras.datasets import imdb\n",
    "from keras import preprocessing\n",
    "from keras.preprocessing.text import Tokenizer\n",
    "from keras.preprocessing.sequence import pad_sequences\n"
   ]
  },
  {
   "cell_type": "code",
   "execution_count": 43,
   "metadata": {},
   "outputs": [],
   "source": [
    "import os\n",
    "\n",
    "# raw file with reviews from https://www.kaggle.com/iarunava/imdb-movie-reviews-dataset\n",
    "imdb_dir = './data/imdbraw/aclImdb'\n",
    "train_dir = os.path.join(imdb_dir, 'train')\n",
    "\n",
    "labels = []\n",
    "texts = []\n",
    "\n",
    "for label_type in ['neg', 'pos']:\n",
    "    dir_name = os.path.join(train_dir, label_type)\n",
    "    for fname in os.listdir(dir_name):\n",
    "        if fname[-4:] == '.txt':\n",
    "            f = open(os.path.join(dir_name, fname), encoding='utf-8')\n",
    "            try:\n",
    "                texts.append(f.read())\n",
    "            except:\n",
    "                pass\n",
    "            finally:\n",
    "                f.close()\n",
    "            if label_type == 'neg':\n",
    "                labels.append(0)\n",
    "            else:\n",
    "                labels.append(1)"
   ]
  },
  {
   "cell_type": "code",
   "execution_count": 44,
   "metadata": {},
   "outputs": [
    {
     "name": "stdout",
     "output_type": "stream",
     "text": [
      "Found 88567 unique tokens.\n"
     ]
    }
   ],
   "source": [
    "review_length = 200 # cuts off reviews after 200 words\n",
    "training_samples = 20000 # trains on 20,000 samples\n",
    "validation_samples = 5000 # validates on 5000 samples\n",
    "max_words = 20000 # only top 20,000 words\n",
    "\n",
    "tokenizer = Tokenizer(num_words=max_words)\n",
    "tokenizer.fit_on_texts(texts)\n",
    "sequences = tokenizer.texts_to_sequences(texts)\n",
    "word_index = tokenizer.word_index\n",
    "\n",
    "print ('Found %s unique tokens.' % len(word_index))\n",
    "\n",
    "# add padding up to review length\n",
    "data = pad_sequences(sequences, maxlen=review_length)\n",
    "\n",
    "labels = np.asarray(labels)\n",
    "indices = np.arange(data.shape[0])\n",
    "\n",
    "# shuffle and select training and validation sample\n",
    "np.random.shuffle(indices)\n",
    "data = data[indices]\n",
    "labels = labels[indices]\n",
    "\n",
    "x_train = data[:training_samples]\n",
    "y_train = labels[:training_samples]\n",
    "\n",
    "x_val = data[training_samples: training_samples + validation_samples]\n",
    "y_val = labels[training_samples: training_samples + validation_samples]"
   ]
  },
  {
   "cell_type": "code",
   "execution_count": 49,
   "metadata": {},
   "outputs": [
    {
     "name": "stdout",
     "output_type": "stream",
     "text": [
      "Shape of train X: (20000, 200)\n",
      "Shape of train Y: (20000,)\n",
      "Shape of validation X: (4998, 200)\n",
      "Shape of validation Y: (4998,)\n"
     ]
    }
   ],
   "source": [
    "print ('Shape of train X: %s' % (x_train.shape,))\n",
    "print ('Shape of train Y: %s' % (y_train.shape,))\n",
    "print ('Shape of validation X: %s' % (x_val.shape,))\n",
    "print ('Shape of validation Y: %s' % (y_val.shape,))\n"
   ]
  },
  {
   "cell_type": "code",
   "execution_count": 51,
   "metadata": {},
   "outputs": [
    {
     "name": "stdout",
     "output_type": "stream",
     "text": [
      "Word vectors: 400000\n",
      "Embedding size: 100\n"
     ]
    }
   ],
   "source": [
    "# Load GloVe pretrained embeddings\n",
    "\n",
    "embedding_dim = 100\n",
    "\n",
    "glove_dir = './data/glove.6B'\n",
    "\n",
    "embeddings_index = {}\n",
    "f = open(os.path.join(glove_dir, 'glove.6B.'+str(embedding_dim)+'d.txt'), encoding='utf-8')\n",
    "for line in f:\n",
    "    values = line.split()\n",
    "    word = values[0]\n",
    "    coefs = np.asarray(values[1:], dtype='float32')\n",
    "    embeddings_index[word] = coefs\n",
    "f.close()\n",
    "print('Word vectors: %s' % len(embeddings_index))\n",
    "print('Embedding size: %s'% embedding_dim)\n",
    "\n",
    "embedding_matrix = np.zeros((max_words, embedding_dim))\n",
    "for word, i in word_index.items():\n",
    "    if i < max_words:\n",
    "        embedding_vector = embeddings_index.get(word)\n",
    "        if embedding_vector is not None:\n",
    "            embedding_matrix[i] = embedding_vector"
   ]
  },
  {
   "cell_type": "code",
   "execution_count": 53,
   "metadata": {},
   "outputs": [],
   "source": [
    "from keras.models import Sequential\n",
    "from keras.layers import Embedding, Flatten, Dense, LSTM, Dropout\n",
    "\n",
    "model = Sequential()\n",
    "model.add(Embedding(max_words, embedding_dim, input_length=review_length))\n",
    "model.add(LSTM(128))\n",
    "model.add(Dropout(0.5))\n",
    "model.add(Dense(1, activation='sigmoid'))"
   ]
  },
  {
   "cell_type": "code",
   "execution_count": 54,
   "metadata": {},
   "outputs": [
    {
     "name": "stdout",
     "output_type": "stream",
     "text": [
      "_________________________________________________________________\n",
      "Layer (type)                 Output Shape              Param #   \n",
      "=================================================================\n",
      "embedding_8 (Embedding)      (None, 200, 100)          2000000   \n",
      "_________________________________________________________________\n",
      "lstm_5 (LSTM)                (None, 128)               117248    \n",
      "_________________________________________________________________\n",
      "dropout_3 (Dropout)          (None, 128)               0         \n",
      "_________________________________________________________________\n",
      "dense_4 (Dense)              (None, 1)                 129       \n",
      "=================================================================\n",
      "Total params: 2,117,377\n",
      "Trainable params: 2,117,377\n",
      "Non-trainable params: 0\n",
      "_________________________________________________________________\n"
     ]
    }
   ],
   "source": [
    "model.summary()"
   ]
  },
  {
   "cell_type": "code",
   "execution_count": 55,
   "metadata": {},
   "outputs": [],
   "source": [
    "model.layers[0].set_weights([embedding_matrix])\n",
    "model.layers[0].trainable = False"
   ]
  },
  {
   "cell_type": "code",
   "execution_count": 56,
   "metadata": {},
   "outputs": [],
   "source": [
    "model.compile(optimizer='rmsprop', loss='binary_crossentropy', metrics=['acc'])"
   ]
  },
  {
   "cell_type": "code",
   "execution_count": 58,
   "metadata": {},
   "outputs": [
    {
     "name": "stdout",
     "output_type": "stream",
     "text": [
      "Train on 20000 samples, validate on 4998 samples\n",
      "Epoch 1/10\n",
      "20000/20000 [==============================] - 360s 18ms/step - loss: 0.5670 - acc: 0.7096 - val_loss: 0.4578 - val_acc: 0.7929\n",
      "Epoch 2/10\n",
      "20000/20000 [==============================] - 358s 18ms/step - loss: 0.4367 - acc: 0.8056 - val_loss: 0.3890 - val_acc: 0.8277\n",
      "Epoch 3/10\n",
      "20000/20000 [==============================] - 359s 18ms/step - loss: 0.3718 - acc: 0.8383 - val_loss: 0.3371 - val_acc: 0.8577\n",
      "Epoch 4/10\n",
      "20000/20000 [==============================] - 358s 18ms/step - loss: 0.3354 - acc: 0.8569 - val_loss: 0.3396 - val_acc: 0.8513\n",
      "Epoch 5/10\n",
      "20000/20000 [==============================] - 358s 18ms/step - loss: 0.3079 - acc: 0.8735 - val_loss: 0.3103 - val_acc: 0.8695\n",
      "Epoch 6/10\n",
      "20000/20000 [==============================] - 358s 18ms/step - loss: 0.2830 - acc: 0.8813 - val_loss: 0.3042 - val_acc: 0.8717\n",
      "Epoch 7/10\n",
      "20000/20000 [==============================] - 358s 18ms/step - loss: 0.2565 - acc: 0.8942 - val_loss: 0.3318 - val_acc: 0.8681\n",
      "Epoch 8/10\n",
      "20000/20000 [==============================] - 359s 18ms/step - loss: 0.2348 - acc: 0.9044 - val_loss: 0.3481 - val_acc: 0.8681\n",
      "Epoch 9/10\n",
      "20000/20000 [==============================] - 358s 18ms/step - loss: 0.2122 - acc: 0.9157 - val_loss: 0.3198 - val_acc: 0.8685\n",
      "Epoch 10/10\n",
      "20000/20000 [==============================] - 358s 18ms/step - loss: 0.1920 - acc: 0.9259 - val_loss: 0.3225 - val_acc: 0.8715\n"
     ]
    }
   ],
   "source": [
    "history = model.fit(x_train, y_train, epochs=10, batch_size=batch_size, validation_data=(x_val, y_val))"
   ]
  },
  {
   "cell_type": "code",
   "execution_count": 59,
   "metadata": {},
   "outputs": [
    {
     "data": {
      "image/png": "[encoded data removed]",
      "text/plain": [
       "<Figure size 432x288 with 1 Axes>"
      ]
     },
     "metadata": {
      "needs_background": "light"
     },
     "output_type": "display_data"
    }
   ],
   "source": [
    "def plot_acc(history):\n",
    "    import matplotlib.pyplot as plt\n",
    "    history_dict = history.history\n",
    "    acc_values = history_dict['acc']\n",
    "    val_acc_values = history_dict['val_acc']\n",
    "    \n",
    "    epochs = range (1, len(acc_values) +1)\n",
    "\n",
    "\n",
    "    plt.plot(epochs, acc_values, 'bo', label='Training acc')\n",
    "    plt.plot(epochs, val_acc_values, 'b', label='Validation acc')\n",
    "\n",
    "    plt.title('Training and validation accuracy')\n",
    "    plt.xlabel('Epochs')\n",
    "    plt.ylabel('Accuracy')\n",
    "    plt.legend()\n",
    "\n",
    "    return plt\n",
    "\n",
    "plt_acc = plot_acc(history)\n",
    "plt_acc.show()"
   ]
  },
  {
   "cell_type": "code",
   "execution_count": 60,
   "metadata": {},
   "outputs": [
    {
     "data": {
      "image/png": "[encoded data removed]",
      "text/plain": [
       "<Figure size 432x288 with 1 Axes>"
      ]
     },
     "metadata": {
      "needs_background": "light"
     },
     "output_type": "display_data"
    }
   ],
   "source": [
    "def plot_loss(history):\n",
    "    history_dict = history.history\n",
    "    loss_values = history_dict['loss']\n",
    "    val_loss_values = history_dict['val_loss']\n",
    "\n",
    "    epochs = range (1, len(loss_values) +1)\n",
    "\n",
    "    plt.plot(epochs, loss_values, 'bo', label='Training loss')\n",
    "    plt.plot(epochs, val_loss_values, 'b', label='Validation loss')\n",
    "    plt.title('Training and validation loss')\n",
    "    plt.xlabel('Epochs')\n",
    "    plt.ylabel('Loss')\n",
    "    plt.legend()\n",
    "    \n",
    "    return plt\n",
    "\n",
    "plt = plot_loss(history)\n",
    "plt.show()"
   ]
  },
  {
   "cell_type": "code",
   "execution_count": null,
   "metadata": {},
   "outputs": [],
   "source": []
  }
 ],
 "metadata": {
  "kernelspec": {
   "display_name": "Python 3",
   "language": "python",
   "name": "python3"
  },
  "language_info": {
   "codemirror_mode": {
    "name": "ipython",
    "version": 3
   },
   "file_extension": ".py",
   "mimetype": "text/x-python",
   "name": "python",
   "nbconvert_exporter": "python",
   "pygments_lexer": "ipython3",
   "version": "3.5.0"
  }
 },
 "nbformat": 4,
 "nbformat_minor": 2
}
