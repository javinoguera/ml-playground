{
 "cells": [
  {
   "cell_type": "code",
   "execution_count": null,
   "metadata": {},
   "outputs": [],
   "source": [
    "# NYC Taxi fare Challenge from Kaggle: https://www.kaggle.com/c/new-york-city-taxi-fare-prediction"
   ]
  },
  {
   "cell_type": "code",
   "execution_count": 1,
   "metadata": {},
   "outputs": [
    {
     "name": "stderr",
     "output_type": "stream",
     "text": [
      "/Users/javier.noguera/envs/py3/lib/python3.5/importlib/_bootstrap.py:222: RuntimeWarning: numpy.dtype size changed, may indicate binary incompatibility. Expected 96, got 88\n",
      "  return f(*args, **kwds)\n",
      "/Users/javier.noguera/envs/py3/lib/python3.5/importlib/_bootstrap.py:222: RuntimeWarning: numpy.dtype size changed, may indicate binary incompatibility. Expected 96, got 88\n",
      "  return f(*args, **kwds)\n",
      "/Users/javier.noguera/envs/py3/lib/python3.5/importlib/_bootstrap.py:222: RuntimeWarning: numpy.dtype size changed, may indicate binary incompatibility. Expected 96, got 88\n",
      "  return f(*args, **kwds)\n",
      "/Users/javier.noguera/envs/py3/lib/python3.5/importlib/_bootstrap.py:222: RuntimeWarning: numpy.dtype size changed, may indicate binary incompatibility. Expected 96, got 88\n",
      "  return f(*args, **kwds)\n",
      "/Users/javier.noguera/envs/py3/lib/python3.5/importlib/_bootstrap.py:222: RuntimeWarning: numpy.dtype size changed, may indicate binary incompatibility. Expected 96, got 88\n",
      "  return f(*args, **kwds)\n",
      "/Users/javier.noguera/envs/py3/lib/python3.5/importlib/_bootstrap.py:222: RuntimeWarning: numpy.dtype size changed, may indicate binary incompatibility. Expected 96, got 88\n",
      "  return f(*args, **kwds)\n",
      "/Users/javier.noguera/envs/py3/lib/python3.5/site-packages/sklearn/ensemble/weight_boosting.py:29: DeprecationWarning: numpy.core.umath_tests is an internal NumPy module and should not be imported. It will be removed in a future NumPy release.\n",
      "  from numpy.core.umath_tests import inner1d\n"
     ]
    }
   ],
   "source": [
    "import numpy as np\n",
    "import pandas as pd\n",
    "import osmnx as ox\n",
    "import sklearn\n",
    "import scipy\n",
    "from sklearn.model_selection import KFold\n",
    "from sklearn import datasets, linear_model\n",
    "from sklearn.model_selection import train_test_split\n",
    "from sklearn.model_selection import cross_val_score\n",
    "from sklearn.ensemble import RandomForestRegressor\n",
    "from sklearn.linear_model import LinearRegression\n",
    "from sklearn.tree import DecisionTreeRegressor\n",
    "%matplotlib inline \n",
    "import matplotlib.pyplot as plt\n"
   ]
  },
  {
   "cell_type": "code",
   "execution_count": 2,
   "metadata": {},
   "outputs": [],
   "source": [
    "train_df_raw = pd.read_csv('//Users/javier.noguera/Documents/taxi/all/train.csv', nrows=10000000)"
   ]
  },
  {
   "cell_type": "code",
   "execution_count": 3,
   "metadata": {},
   "outputs": [
    {
     "data": {
      "text/plain": [
       "key                   object\n",
       "fare_amount          float64\n",
       "pickup_datetime       object\n",
       "pickup_longitude     float64\n",
       "pickup_latitude      float64\n",
       "dropoff_longitude    float64\n",
       "dropoff_latitude     float64\n",
       "passenger_count        int64\n",
       "dtype: object"
      ]
     },
     "execution_count": 3,
     "metadata": {},
     "output_type": "execute_result"
    }
   ],
   "source": [
    "train_df_raw.dtypes"
   ]
  },
  {
   "cell_type": "code",
   "execution_count": 4,
   "metadata": {},
   "outputs": [
    {
     "data": {
      "text/html": [
       "<div>\n",
       "<style scoped>\n",
       "    .dataframe tbody tr th:only-of-type {\n",
       "        vertical-align: middle;\n",
       "    }\n",
       "\n",
       "    .dataframe tbody tr th {\n",
       "        vertical-align: top;\n",
       "    }\n",
       "\n",
       "    .dataframe thead th {\n",
       "        text-align: right;\n",
       "    }\n",
       "</style>\n",
       "<table border=\"1\" class=\"dataframe\">\n",
       "  <thead>\n",
       "    <tr style=\"text-align: right;\">\n",
       "      <th></th>\n",
       "      <th>key</th>\n",
       "      <th>fare_amount</th>\n",
       "      <th>pickup_datetime</th>\n",
       "      <th>pickup_longitude</th>\n",
       "      <th>pickup_latitude</th>\n",
       "      <th>dropoff_longitude</th>\n",
       "      <th>dropoff_latitude</th>\n",
       "      <th>passenger_count</th>\n",
       "    </tr>\n",
       "  </thead>\n",
       "  <tbody>\n",
       "    <tr>\n",
       "      <th>0</th>\n",
       "      <td>2009-06-15 17:26:21.0000001</td>\n",
       "      <td>4.5</td>\n",
       "      <td>2009-06-15 17:26:21 UTC</td>\n",
       "      <td>-73.844311</td>\n",
       "      <td>40.721319</td>\n",
       "      <td>-73.841610</td>\n",
       "      <td>40.712278</td>\n",
       "      <td>1</td>\n",
       "    </tr>\n",
       "    <tr>\n",
       "      <th>1</th>\n",
       "      <td>2010-01-05 16:52:16.0000002</td>\n",
       "      <td>16.9</td>\n",
       "      <td>2010-01-05 16:52:16 UTC</td>\n",
       "      <td>-74.016048</td>\n",
       "      <td>40.711303</td>\n",
       "      <td>-73.979268</td>\n",
       "      <td>40.782004</td>\n",
       "      <td>1</td>\n",
       "    </tr>\n",
       "    <tr>\n",
       "      <th>2</th>\n",
       "      <td>2011-08-18 00:35:00.00000049</td>\n",
       "      <td>5.7</td>\n",
       "      <td>2011-08-18 00:35:00 UTC</td>\n",
       "      <td>-73.982738</td>\n",
       "      <td>40.761270</td>\n",
       "      <td>-73.991242</td>\n",
       "      <td>40.750562</td>\n",
       "      <td>2</td>\n",
       "    </tr>\n",
       "    <tr>\n",
       "      <th>3</th>\n",
       "      <td>2012-04-21 04:30:42.0000001</td>\n",
       "      <td>7.7</td>\n",
       "      <td>2012-04-21 04:30:42 UTC</td>\n",
       "      <td>-73.987130</td>\n",
       "      <td>40.733143</td>\n",
       "      <td>-73.991567</td>\n",
       "      <td>40.758092</td>\n",
       "      <td>1</td>\n",
       "    </tr>\n",
       "    <tr>\n",
       "      <th>4</th>\n",
       "      <td>2010-03-09 07:51:00.000000135</td>\n",
       "      <td>5.3</td>\n",
       "      <td>2010-03-09 07:51:00 UTC</td>\n",
       "      <td>-73.968095</td>\n",
       "      <td>40.768008</td>\n",
       "      <td>-73.956655</td>\n",
       "      <td>40.783762</td>\n",
       "      <td>1</td>\n",
       "    </tr>\n",
       "  </tbody>\n",
       "</table>\n",
       "</div>"
      ],
      "text/plain": [
       "                             key  fare_amount          pickup_datetime  \\\n",
       "0    2009-06-15 17:26:21.0000001          4.5  2009-06-15 17:26:21 UTC   \n",
       "1    2010-01-05 16:52:16.0000002         16.9  2010-01-05 16:52:16 UTC   \n",
       "2   2011-08-18 00:35:00.00000049          5.7  2011-08-18 00:35:00 UTC   \n",
       "3    2012-04-21 04:30:42.0000001          7.7  2012-04-21 04:30:42 UTC   \n",
       "4  2010-03-09 07:51:00.000000135          5.3  2010-03-09 07:51:00 UTC   \n",
       "\n",
       "   pickup_longitude  pickup_latitude  dropoff_longitude  dropoff_latitude  \\\n",
       "0        -73.844311        40.721319         -73.841610         40.712278   \n",
       "1        -74.016048        40.711303         -73.979268         40.782004   \n",
       "2        -73.982738        40.761270         -73.991242         40.750562   \n",
       "3        -73.987130        40.733143         -73.991567         40.758092   \n",
       "4        -73.968095        40.768008         -73.956655         40.783762   \n",
       "\n",
       "   passenger_count  \n",
       "0                1  \n",
       "1                1  \n",
       "2                2  \n",
       "3                1  \n",
       "4                1  "
      ]
     },
     "execution_count": 4,
     "metadata": {},
     "output_type": "execute_result"
    }
   ],
   "source": [
    "train_df_raw.head()"
   ]
  },
  {
   "cell_type": "code",
   "execution_count": 5,
   "metadata": {},
   "outputs": [
    {
     "name": "stdout",
     "output_type": "stream",
     "text": [
      "True\n",
      "False\n"
     ]
    }
   ],
   "source": [
    "# Clean up\n",
    "\n",
    "# drop na\n",
    "print(train_df_raw.isnull().values.any())\n",
    "train_df_raw=train_df_raw.dropna()\n",
    "print(train_df_raw.isnull().values.any())\n",
    "\n",
    "\n"
   ]
  },
  {
   "cell_type": "code",
   "execution_count": 6,
   "metadata": {},
   "outputs": [
    {
     "name": "stderr",
     "output_type": "stream",
     "text": [
      "/Users/javier.noguera/envs/py3/lib/python3.5/site-packages/ipykernel_launcher.py:30: RuntimeWarning: divide by zero encountered in true_divide\n",
      "/Users/javier.noguera/envs/py3/lib/python3.5/site-packages/ipykernel_launcher.py:30: RuntimeWarning: invalid value encountered in true_divide\n",
      "/Users/javier.noguera/envs/py3/lib/python3.5/site-packages/ipykernel_launcher.py:31: RuntimeWarning: divide by zero encountered in true_divide\n",
      "/Users/javier.noguera/envs/py3/lib/python3.5/site-packages/ipykernel_launcher.py:31: RuntimeWarning: invalid value encountered in true_divide\n"
     ]
    },
    {
     "name": "stdout",
     "output_type": "stream",
     "text": [
      "(9713749, 13)\n"
     ]
    }
   ],
   "source": [
    "train_df_raw['euc_distance']=np.sqrt(np.square(np.subtract(train_df_raw['pickup_latitude'], train_df_raw['dropoff_latitude']))+\n",
    "                                     np.square(np.subtract(train_df_raw['pickup_longitude'],train_df_raw['dropoff_longitude'])))\n",
    "\n",
    "\n",
    "LAT_TO_KM = 111\n",
    "LONG_TO_KM = 85\n",
    "\n",
    "    \n",
    "\n",
    "'''\n",
    "train_df_raw['euc_distance_km']=np.sqrt(np.square(np.subtract(train_df_raw['pickup_latitude'], train_df_raw['dropoff_latitude'])) * LAT_TO_KM +\n",
    "                                     np.square(np.subtract(train_df_raw['pickup_longitude'],train_df_raw['dropoff_longitude'])) * LONG_TO_KM)\n",
    "'''\n",
    "\n",
    "def computeDistKm(latStart, longStart, latEnd, longEnd):\n",
    "    dlat = np.subtract(latEnd, latStart)\n",
    "    dlong = np.subtract(longEnd, longStart)\n",
    "    dist = np.sqrt(dlat * dlat * LAT_TO_KM + dlong * dlong * LONG_TO_KM)\n",
    "    return dist\n",
    "\n",
    "def computeDistManhattanKm(latStart, longStart, latEnd, longEnd):\n",
    "    dlat = np.subtract(latEnd, latStart)\n",
    "    dlong = np.subtract(longEnd, longStart)\n",
    "    dist = np.abs(dlat * LAT_TO_KM) + np.abs(dlong * LONG_TO_KM)\n",
    "    return dist\n",
    "\n",
    "train_df_raw['euc_distance_km'] = computeDistKm(train_df_raw['pickup_latitude'], train_df_raw['pickup_longitude'], train_df_raw['dropoff_latitude'], train_df_raw['dropoff_longitude'])\n",
    "train_df_raw['man_distance_km'] = computeDistManhattanKm(train_df_raw['pickup_latitude'], train_df_raw['pickup_longitude'], train_df_raw['dropoff_latitude'], train_df_raw['dropoff_longitude'])\n",
    "\n",
    "train_df_raw[\"price_dist_ratio\"] = np.divide(train_df_raw[\"fare_amount\"], train_df_raw[\"euc_distance_km\"])\n",
    "train_df_raw[\"price_man_dist_ratio\"] = np.divide(train_df_raw[\"fare_amount\"], train_df_raw[\"man_distance_km\"])\n",
    "\n",
    "# filter\n",
    "train_df_raw = train_df_raw[(train_df_raw['euc_distance_km'] > 0.0) & (train_df_raw['fare_amount'] > 0)]\n",
    "\n",
    "\n",
    "print(train_df_raw.shape)\n",
    "\n",
    "\n"
   ]
  },
  {
   "cell_type": "code",
   "execution_count": 7,
   "metadata": {},
   "outputs": [],
   "source": [
    "# extract days\n",
    "\n",
    "train_df_raw['pickup_datetime']=pd.to_datetime(train_df_raw['pickup_datetime'],infer_datetime_format=True)\n",
    "train_df_raw['pickup_year']=train_df_raw['pickup_datetime'].dt.year\n",
    "train_df_raw['pickup_month']=train_df_raw['pickup_datetime'].dt.month\n",
    "train_df_raw['pickup_weekday']=train_df_raw['pickup_datetime'].dt.weekday\n",
    "train_df_raw['pickup_hour']=train_df_raw['pickup_datetime'].dt.hour\n",
    "\n",
    "# one-hot-encoding\n",
    "\n",
    "train_df_raw=pd.get_dummies(train_df_raw, columns=['pickup_weekday','pickup_month','pickup_hour'])\n",
    "\n",
    "\n"
   ]
  },
  {
   "cell_type": "code",
   "execution_count": 8,
   "metadata": {},
   "outputs": [
    {
     "name": "stdout",
     "output_type": "stream",
     "text": [
      "pickup_longitude        float64\n",
      "pickup_latitude         float64\n",
      "dropoff_longitude       float64\n",
      "dropoff_latitude        float64\n",
      "euc_distance            float64\n",
      "euc_distance_km         float64\n",
      "man_distance_km         float64\n",
      "price_dist_ratio        float64\n",
      "price_man_dist_ratio    float64\n",
      "pickup_year               int64\n",
      "pickup_weekday_0          uint8\n",
      "pickup_weekday_1          uint8\n",
      "pickup_weekday_2          uint8\n",
      "pickup_weekday_3          uint8\n",
      "pickup_weekday_4          uint8\n",
      "pickup_weekday_5          uint8\n",
      "pickup_weekday_6          uint8\n",
      "pickup_month_1            uint8\n",
      "pickup_month_2            uint8\n",
      "pickup_month_3            uint8\n",
      "pickup_month_4            uint8\n",
      "pickup_month_5            uint8\n",
      "pickup_month_6            uint8\n",
      "pickup_month_7            uint8\n",
      "pickup_month_8            uint8\n",
      "pickup_month_9            uint8\n",
      "pickup_month_10           uint8\n",
      "pickup_month_11           uint8\n",
      "pickup_month_12           uint8\n",
      "pickup_hour_0             uint8\n",
      "pickup_hour_1             uint8\n",
      "pickup_hour_2             uint8\n",
      "pickup_hour_3             uint8\n",
      "pickup_hour_4             uint8\n",
      "pickup_hour_5             uint8\n",
      "pickup_hour_6             uint8\n",
      "pickup_hour_7             uint8\n",
      "pickup_hour_8             uint8\n",
      "pickup_hour_9             uint8\n",
      "pickup_hour_10            uint8\n",
      "pickup_hour_11            uint8\n",
      "pickup_hour_12            uint8\n",
      "pickup_hour_13            uint8\n",
      "pickup_hour_14            uint8\n",
      "pickup_hour_15            uint8\n",
      "pickup_hour_16            uint8\n",
      "pickup_hour_17            uint8\n",
      "pickup_hour_18            uint8\n",
      "pickup_hour_19            uint8\n",
      "pickup_hour_20            uint8\n",
      "pickup_hour_21            uint8\n",
      "pickup_hour_22            uint8\n",
      "pickup_hour_23            uint8\n",
      "dtype: object\n"
     ]
    }
   ],
   "source": [
    "# get y\n",
    "y = train_df_raw.iloc[:,1]\n",
    "\n",
    "\n",
    "# remove columns\n",
    "train_df=train_df_raw.drop(columns=['key','pickup_datetime','fare_amount','passenger_count'])\n",
    "train_df.head()\n",
    "print(train_df.dtypes)\n"
   ]
  },
  {
   "cell_type": "code",
   "execution_count": 9,
   "metadata": {},
   "outputs": [
    {
     "name": "stdout",
     "output_type": "stream",
     "text": [
      "                             key  fare_amount     pickup_datetime  \\\n",
      "0    2009-06-15 17:26:21.0000001          4.5 2009-06-15 17:26:21   \n",
      "1    2010-01-05 16:52:16.0000002         16.9 2010-01-05 16:52:16   \n",
      "2   2011-08-18 00:35:00.00000049          5.7 2011-08-18 00:35:00   \n",
      "3    2012-04-21 04:30:42.0000001          7.7 2012-04-21 04:30:42   \n",
      "4  2010-03-09 07:51:00.000000135          5.3 2010-03-09 07:51:00   \n",
      "\n",
      "   pickup_longitude  pickup_latitude  dropoff_longitude  dropoff_latitude  \\\n",
      "0        -73.844311        40.721319         -73.841610         40.712278   \n",
      "1        -74.016048        40.711303         -73.979268         40.782004   \n",
      "2        -73.982738        40.761270         -73.991242         40.750562   \n",
      "3        -73.987130        40.733143         -73.991567         40.758092   \n",
      "4        -73.968095        40.768008         -73.956655         40.783762   \n",
      "\n",
      "   passenger_count  euc_distance  euc_distance_km       ...        \\\n",
      "0                1      0.009436         0.098454       ...         \n",
      "1                1      0.079696         0.818434       ...         \n",
      "2                2      0.013674         0.137384       ...         \n",
      "3                1      0.025340         0.266018       ...         \n",
      "4                1      0.019470         0.196655       ...         \n",
      "\n",
      "   pickup_hour_14  pickup_hour_15  pickup_hour_16  pickup_hour_17  \\\n",
      "0               0               0               0               1   \n",
      "1               0               0               1               0   \n",
      "2               0               0               0               0   \n",
      "3               0               0               0               0   \n",
      "4               0               0               0               0   \n",
      "\n",
      "   pickup_hour_18  pickup_hour_19  pickup_hour_20  pickup_hour_21  \\\n",
      "0               0               0               0               0   \n",
      "1               0               0               0               0   \n",
      "2               0               0               0               0   \n",
      "3               0               0               0               0   \n",
      "4               0               0               0               0   \n",
      "\n",
      "   pickup_hour_22  pickup_hour_23  \n",
      "0               0               0  \n",
      "1               0               0  \n",
      "2               0               0  \n",
      "3               0               0  \n",
      "4               0               0  \n",
      "\n",
      "[5 rows x 57 columns]\n"
     ]
    }
   ],
   "source": [
    "print(train_df_raw.head())"
   ]
  },
  {
   "cell_type": "code",
   "execution_count": 10,
   "metadata": {},
   "outputs": [
    {
     "data": {
      "image/png": "[encoded data removed]",
      "text/plain": [
       "<Figure size 432x288 with 1 Axes>"
      ]
     },
     "metadata": {},
     "output_type": "display_data"
    },
    {
     "name": "stdout",
     "output_type": "stream",
     "text": [
      "count    9.139892e+06\n",
      "mean     2.652533e-01\n",
      "std      1.957199e-01\n",
      "min      9.219544e-06\n",
      "25%      1.247637e-01\n",
      "50%      2.063869e-01\n",
      "75%      3.468723e-01\n",
      "max      9.999997e-01\n",
      "Name: euc_distance_km, dtype: float64\n"
     ]
    },
    {
     "data": {
      "image/png": "[encoded data removed]",
      "text/plain": [
       "<Figure size 432x288 with 1 Axes>"
      ]
     },
     "metadata": {},
     "output_type": "display_data"
    },
    {
     "name": "stdout",
     "output_type": "stream",
     "text": [
      "count    9.589443e+06\n",
      "mean     1.069563e+01\n",
      "std      7.680265e+00\n",
      "min      1.000000e-02\n",
      "25%      6.000000e+00\n",
      "50%      8.500000e+00\n",
      "75%      1.250000e+01\n",
      "max      4.999000e+01\n",
      "Name: fare_amount, dtype: float64\n"
     ]
    },
    {
     "data": {
      "image/png": "[encoded data removed]",
      "text/plain": [
       "<Figure size 432x288 with 1 Axes>"
      ]
     },
     "metadata": {},
     "output_type": "display_data"
    },
    {
     "name": "stdout",
     "output_type": "stream",
     "text": [
      "count    9.618219e+06\n",
      "mean     3.391008e+00\n",
      "std      1.808303e+00\n",
      "min      9.249728e-07\n",
      "25%      2.268540e+00\n",
      "50%      2.970345e+00\n",
      "75%      3.961238e+00\n",
      "max      2.000000e+01\n",
      "Name: price_man_dist_ratio, dtype: float64\n"
     ]
    }
   ],
   "source": [
    "reduced_df = train_df_raw[train_df_raw[\"euc_distance_km\"] < 1]\n",
    "plt.hist(reduced_df[\"euc_distance_km\"], bins=50);\n",
    "plt.show()\n",
    "print(reduced_df[\"euc_distance_km\"].describe())\n",
    "\n",
    "\n",
    "#train_df_raw[train_df_raw[\"euc_distance_km\"] < 0.00001].shape\n",
    "\n",
    "\n",
    "\n",
    "reduced_df = train_df_raw[train_df_raw[\"fare_amount\"] < 50]\n",
    "plt.title(\"Fare amount\")\n",
    "plt.hist(reduced_df[\"fare_amount\"], bins=50);\n",
    "plt.show()\n",
    "\n",
    "print(reduced_df[\"fare_amount\"].describe())\n",
    "\n",
    "\n",
    "reduced_df = train_df_raw[train_df_raw[\"price_man_dist_ratio\"] < 20]\n",
    "plt.title(\"Price/Distance\")\n",
    "plt.hist(reduced_df[\"price_man_dist_ratio\"], bins=50);\n",
    "plt.show()\n",
    "\n",
    "print(reduced_df[\"price_man_dist_ratio\"].describe())\n",
    "\n"
   ]
  },
  {
   "cell_type": "code",
   "execution_count": 11,
   "metadata": {},
   "outputs": [
    {
     "name": "stdout",
     "output_type": "stream",
     "text": [
      "(7770999, 53) (7770999,)\n",
      "(1942750, 53) (1942750,)\n"
     ]
    }
   ],
   "source": [
    "# Split\n",
    "\n",
    "X_train, X_test, y_train, y_test = train_test_split(train_df, y, test_size=0.2)\n",
    "print (X_train.shape, y_train.shape)\n",
    "print (X_test.shape, y_test.shape)\n",
    "\n"
   ]
  },
  {
   "cell_type": "code",
   "execution_count": 12,
   "metadata": {},
   "outputs": [],
   "source": [
    "# Choose regressor\n",
    "\n",
    "reg = RandomForestRegressor(verbose=True)\n",
    "\n",
    "\n"
   ]
  },
  {
   "cell_type": "code",
   "execution_count": 13,
   "metadata": {},
   "outputs": [
    {
     "name": "stderr",
     "output_type": "stream",
     "text": [
      "[Parallel(n_jobs=1)]: Done  10 out of  10 | elapsed: 22.9min finished\n",
      "[Parallel(n_jobs=1)]: Done  10 out of  10 | elapsed:    7.3s finished\n",
      "[Parallel(n_jobs=1)]: Done  10 out of  10 | elapsed: 27.9min finished\n",
      "[Parallel(n_jobs=1)]: Done  10 out of  10 | elapsed:    7.7s finished\n",
      "[Parallel(n_jobs=1)]: Done  10 out of  10 | elapsed: 24.3min finished\n",
      "[Parallel(n_jobs=1)]: Done  10 out of  10 | elapsed:   10.3s finished\n"
     ]
    },
    {
     "name": "stdout",
     "output_type": "stream",
     "text": [
      "[0.55273878 0.46652904 0.62434314]\n",
      "0.5478703207914771\n"
     ]
    },
    {
     "name": "stderr",
     "output_type": "stream",
     "text": [
      "[Parallel(n_jobs=1)]: Done   3 out of   3 | elapsed: 75.9min finished\n"
     ]
    }
   ],
   "source": [
    "# Cross validation score\n",
    "\n",
    "scores = cross_val_score(reg, X_train, y_train,\n",
    "                         scoring=\"neg_mean_squared_error\", cv=3, verbose=True)\n",
    "tree_rmse_scores = np.sqrt(-scores)\n",
    "\n",
    "print(tree_rmse_scores)\n",
    "print(np.mean(tree_rmse_scores))\n"
   ]
  }
 ],
 "metadata": {
  "kernelspec": {
   "display_name": "Python 3",
   "language": "python",
   "name": "python3"
  },
  "language_info": {
   "codemirror_mode": {
    "name": "ipython",
    "version": 3
   },
   "file_extension": ".py",
   "mimetype": "text/x-python",
   "name": "python",
   "nbconvert_exporter": "python",
   "pygments_lexer": "ipython3",
   "version": "3.5.2"
  },
  "varInspector": {
   "cols": {
    "lenName": 16,
    "lenType": 16,
    "lenVar": 40
   },
   "kernels_config": {
    "python": {
     "delete_cmd_postfix": "",
     "delete_cmd_prefix": "del ",
     "library": "var_list.py",
     "varRefreshCmd": "print(var_dic_list())"
    },
    "r": {
     "delete_cmd_postfix": ") ",
     "delete_cmd_prefix": "rm(",
     "library": "var_list.r",
     "varRefreshCmd": "cat(var_dic_list()) "
    }
   },
   "types_to_exclude": [
    "module",
    "function",
    "builtin_function_or_method",
    "instance",
    "_Feature"
   ],
   "window_display": false
  }
 },
 "nbformat": 4,
 "nbformat_minor": 2
}
